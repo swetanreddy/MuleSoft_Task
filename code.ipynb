{
 "cells": [
  {
   "cell_type": "code",
   "execution_count": 31,
   "metadata": {},
   "outputs": [],
   "source": [
    "import mysql.connector\n"
   ]
  },
  {
   "cell_type": "code",
   "execution_count": 41,
   "metadata": {},
   "outputs": [],
   "source": [
    "# Establishing the Connection\n",
    "conn = mysql.connector.connect(\n",
    "    user='root',\n",
    "    password='siva',\n",
    "    host='localhost', \n",
    "    database='moviesinfo',\n",
    "    auth_plugin='mysql_native_password'\n",
    ")\n"
   ]
  },
  {
   "cell_type": "code",
   "execution_count": 42,
   "metadata": {},
   "outputs": [],
   "source": [
    "# Creating Cursor Object\n",
    "cursor=conn.cursor()"
   ]
  },
  {
   "cell_type": "markdown",
   "metadata": {},
   "source": [
    "### Query 1 : Retrieving one Movie from the database"
   ]
  },
  {
   "cell_type": "code",
   "execution_count": 34,
   "metadata": {},
   "outputs": [
    {
     "name": "stdout",
     "output_type": "stream",
     "text": [
      "('Bhool Bhulaiyaa 2', 'Karthik Aaryan', 'Kiara Advani', 'Anees Bazmee', '2022')\n"
     ]
    }
   ],
   "source": [
    "s1 = '''SELECT * from Movies_Info'''\n",
    "cursor.execute(s1)\n",
    "result = cursor.fetchone();\n",
    "print(result)"
   ]
  },
  {
   "cell_type": "markdown",
   "metadata": {},
   "source": [
    "### Query 2 : Retrieving 3 Movies from the database"
   ]
  },
  {
   "cell_type": "code",
   "execution_count": 40,
   "metadata": {},
   "outputs": [
    {
     "name": "stdout",
     "output_type": "stream",
     "text": [
      "[('Bhool Bhulaiyaa 2', 'Karthik Aaryan', 'Kiara Advani', 'Anees Bazmee', '2022'), ('Radhe Shyam', 'Prabhas', 'Pooja Hegde', 'Radha Krishna Kumar', '2022'), ('Radhe Shyam', 'Prabhas', 'Pooja Hegde', 'Radha Krishna Kumar', '2022')]\n"
     ]
    }
   ],
   "source": [
    "s2 = '''SELECT * from Movies_Info'''\n",
    "cursor.execute(s2)\n",
    "result = cursor.fetchmany(size=3);\n",
    "print(result)"
   ]
  },
  {
   "cell_type": "markdown",
   "metadata": {},
   "source": [
    "#### Query 5: Sort the values based on Year_of_release"
   ]
  },
  {
   "cell_type": "code",
   "execution_count": 43,
   "metadata": {},
   "outputs": [
    {
     "name": "stdout",
     "output_type": "stream",
     "text": [
      "[('Arjun Reddy', 'Vijay Devarkonda', 'Shalini Pandey', '2017', 'Sandeep Reddy Vanga'), ('Bhool Bhulaiyaa 2', 'Karthik Aaryan', 'Kiara Advani', '2022', 'Anees Bazmee'), ('Radhe Shyam', 'Prabhas', 'Pooja Hegde', '2022', 'Radha Krishna Kumar'), ('Radhe Shyam', 'Prabhas', 'Pooja Hegde', '2022', 'Radha Krishna Kumar'), ('Radhe Shyam', 'Prabhas', 'Pooja Hegde', '2022', 'Radha Krishna Kumar'), ('Runway 34', 'Ajay Devgn', 'Rakul Preet Singh', '2022', 'Ajay Devgn'), ('Anek', 'Ayushmann Khurrana', 'Andrea Kevichusa', '2022', 'Anubhav Sinha'), ('Major', 'Adivi Sesh', 'Saiee Manjrekar', '2022', 'Sashi Kiran Tikka'), ('Forensic', 'Vikrant Massey', 'Radhika Apte', '2022', 'Vishal Furia')]\n"
     ]
    }
   ],
   "source": [
    "s5 = '''SELECT Movie_Name,Actor,Actress,Year_of_release,Director FROM Movies_Info ORDER BY Year_of_release;'''\n",
    "cursor.execute(s5)\n",
    "result = cursor.fetchall();\n",
    "print(result)"
   ]
  },
  {
   "cell_type": "code",
   "execution_count": null,
   "metadata": {},
   "outputs": [],
   "source": []
  }
 ],
 "metadata": {
  "kernelspec": {
   "display_name": "Python 3.7.9 64-bit",
   "language": "python",
   "name": "python3"
  },
  "language_info": {
   "codemirror_mode": {
    "name": "ipython",
    "version": 3
   },
   "file_extension": ".py",
   "mimetype": "text/x-python",
   "name": "python",
   "nbconvert_exporter": "python",
   "pygments_lexer": "ipython3",
   "version": "3.7.9"
  },
  "orig_nbformat": 4,
  "vscode": {
   "interpreter": {
    "hash": "5109d816b82be14675a6b11f8e0f0d2e80f029176ed3710d54e125caa8520dfd"
   }
  }
 },
 "nbformat": 4,
 "nbformat_minor": 2
}
